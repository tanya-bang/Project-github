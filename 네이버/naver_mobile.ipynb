{
 "cells": [
  {
   "cell_type": "code",
   "execution_count": 24,
   "metadata": {},
   "outputs": [],
   "source": [
    "import pandas as pd\n",
    "import time\n",
    "import os\n",
    "from datetime import datetime\n",
    "from selenium import webdriver\n",
    "from selenium.webdriver.common.by import By # 셀레니움 4.0부터 포함된 객체(모듈)\n",
    "from selenium.webdriver.chrome.service import Service\n",
    "from webdriver_manager.chrome import ChromeDriverManager\n",
    "from selenium.webdriver.support.ui import WebDriverWait\n",
    "from selenium.webdriver.support import expected_conditions as EC\n",
    "\n",
    "from selenium.webdriver.common.keys import Keys\n",
    "import warnings\n",
    "warnings.filterwarnings('ignore')\n",
    "from IPython.core.interactiveshell import InteractiveShell\n",
    "InteractiveShell.ast_node_interactivity = \"all\""
   ]
  },
  {
   "cell_type": "code",
   "execution_count": 51,
   "metadata": {},
   "outputs": [],
   "source": [
    "def setting(stock_code):\n",
    "    # 드라이버 설정\n",
    "    global driver\n",
    "    chrome_options = webdriver.ChromeOptions() # 크롬브라우저를 컨트롤하는 드라이버 옵션 생성\n",
    "    chrome_options.add_experimental_option(\"detach\", True)\n",
    "    driver = webdriver.Chrome(service=Service(ChromeDriverManager().install()), options=chrome_options)\n",
    "\n",
    "    # url 로딩\n",
    "    url = f\"https://m.stock.naver.com/domestic/stock/{stock_code}/discuss\"\n",
    "    driver.get(url)\n",
    "    time.sleep(3)"
   ]
  },
  {
   "cell_type": "code",
   "execution_count": 71,
   "metadata": {},
   "outputs": [],
   "source": [
    "stocks = {\n",
    "    '096770': 'SK이노베이션',\n",
    "    #'005930': '삼성전자',\n",
    "    #'035420': 'NAVER'\n",
    "    }\n",
    "\n",
    "for stock_code in stocks.keys():\n",
    "\n",
    "    global driver\n",
    "    chrome_options = webdriver.ChromeOptions() # 크롬브라우저를 컨트롤하는 드라이버 옵션 생성\n",
    "    chrome_options.add_experimental_option(\"detach\", True)\n",
    "    driver = webdriver.Chrome(service=Service(ChromeDriverManager().install()), options=chrome_options)\n",
    "\n",
    "    # url 로딩\n",
    "    url = f\"https://m.stock.naver.com/domestic/stock/{stock_code}/discuss\"\n",
    "    driver.get(url)\n",
    "    time.sleep(1)\n"
   ]
  },
  {
   "cell_type": "code",
   "execution_count": 76,
   "metadata": {},
   "outputs": [],
   "source": [
    "body = driver.find_element(By.TAG_NAME, \"body\")\n",
    "body.send_keys(Keys.END)\n",
    "time.sleep(0.5)\n",
    "driver.execute_script(\"window.scrollTo(0, document.body.scrollHeight);\")\n",
    "\n",
    "#<button type=\"button\" class=\"InfinityMoreButton_button__ETrlQ\" data-nlogs=\"nbo.moreb\"><span class=\"blind\">게시글</span>더보기<span class=\"InfinityMoreButton_icon__641_T\"></span></button>"
   ]
  },
  {
   "cell_type": "code",
   "execution_count": 77,
   "metadata": {},
   "outputs": [],
   "source": [
    "try:\n",
    "    old_df = pd.read_csv(f\"naver_{stocks[stock_code]}.csv\")\n",
    "    existing_ids = set(old_df[\"post_id\"].apply(str))\n",
    "except FileNotFoundError:\n",
    "    pass\n",
    "\n",
    "collected_comments = []\n",
    "\n",
    "body = driver.find_element(By.TAG_NAME, \"body\")\n",
    "body.send_keys(Keys.END)\n",
    "driver.execute_script(\"window.scrollTo(0, document.body.scrollHeight);\")\n",
    "time.sleep(2)\n",
    "    \n",
    "comment_elements = driver.find_elements(By.CSS_SELECTOR, 'li.DiscussListItem_item__wzLRv')\n",
    "\n",
    "for comment in comment_elements:\n",
    "    post_id = str(comment.get_attribute(\"id\"))\n",
    "\n",
    "    if post_id in existing_ids: \n",
    "        break\n",
    "    else:\n",
    "        pass\n",
    "    title = comment.find_element(By.CSS_SELECTOR, 'strong.DiscussListItem_title__LVPk5').text\n",
    "    content = comment.find_element(By.CSS_SELECTOR, 'p.DiscussListItem_text__OKI6X').text\n",
    "    \n",
    "    collected_comments.append((post_id, title, content))\n",
    "        "
   ]
  },
  {
   "cell_type": "code",
   "execution_count": null,
   "metadata": {},
   "outputs": [
    {
     "data": {
      "text/plain": [
       "140"
      ]
     },
     "execution_count": 78,
     "metadata": {},
     "output_type": "execute_result"
    }
   ],
   "source": [
    "if not collected_comments:\n",
    "    print(f\"{stocks[stock_code]}: 저장할 새 댓글 없음\")\n",
    "else: \n",
    "    df_new = pd.DataFrame(collected_comments, columns=[\"post_id\", \"title\", \"content\"])\n",
    "    df_new[\"platform\"] = \"네이버증권\"\n",
    "    df_new[\"stock_name\"] = stocks[stock_code]\n",
    "    df_new = df_new[[\"platform\", \"stock_name\", \"post_id\", \"title\", \"content\"]]\n",
    "    file_path = f\"naver_{stocks[stock_code]}.csv\""
   ]
  },
  {
   "cell_type": "code",
   "execution_count": 61,
   "metadata": {},
   "outputs": [],
   "source": [
    "driver.quit()"
   ]
  },
  {
   "cell_type": "code",
   "execution_count": 33,
   "metadata": {},
   "outputs": [],
   "source": [
    "# def save_comments(stock_code):\n",
    "if not collected_comments:\n",
    "    print(f\"{stocks[stock_code]}: 저장할 새 댓글 없음\")\n",
    "else: \n",
    "    df_new = pd.DataFrame(collected_comments, columns=[\"post_id\", \"title\", \"content\"])\n",
    "    df_new[\"platform\"] = \"네이버증권\"\n",
    "    df_new[\"stock_name\"] = stocks[stock_code]\n",
    "    df_new = df_new[[\"platform\", \"stock_name\", \"post_id\", \"title\", \"content\"]]\n",
    "    file_path = f\"naver_{stocks[stock_code]}.csv\"\n",
    "\n",
    "if os.path.exists(file_path):\n",
    "    df_existing = pd.read_csv(file_path, encoding=\"utf-8-sig\")\n",
    "    df_combined = pd.concat([df_existing, df_new], ignore_index=True)\n",
    "    df_combined = df_combined.drop_duplicates(subset=[\"post_id\"], keep=\"first\")\n",
    "    df_combined.to_csv(file_path, index=False, encoding=\"utf-8-sig\")\n",
    "else:\n",
    "    df_new.to_csv(file_path, index=False, encoding=\"utf-8-sig\")\n"
   ]
  },
  {
   "cell_type": "code",
   "execution_count": 34,
   "metadata": {},
   "outputs": [
    {
     "name": "stdout",
     "output_type": "stream",
     "text": [
      "<class 'pandas.core.frame.DataFrame'>\n",
      "RangeIndex: 400 entries, 0 to 399\n",
      "Data columns (total 5 columns):\n",
      " #   Column      Non-Null Count  Dtype \n",
      "---  ------      --------------  ----- \n",
      " 0   platform    400 non-null    object\n",
      " 1   stock_name  400 non-null    object\n",
      " 2   post_id     400 non-null    int64 \n",
      " 3   title       400 non-null    object\n",
      " 4   content     400 non-null    object\n",
      "dtypes: int64(1), object(4)\n",
      "memory usage: 15.8+ KB\n"
     ]
    },
    {
     "data": {
      "text/html": [
       "<div>\n",
       "<style scoped>\n",
       "    .dataframe tbody tr th:only-of-type {\n",
       "        vertical-align: middle;\n",
       "    }\n",
       "\n",
       "    .dataframe tbody tr th {\n",
       "        vertical-align: top;\n",
       "    }\n",
       "\n",
       "    .dataframe thead th {\n",
       "        text-align: right;\n",
       "    }\n",
       "</style>\n",
       "<table border=\"1\" class=\"dataframe\">\n",
       "  <thead>\n",
       "    <tr style=\"text-align: right;\">\n",
       "      <th></th>\n",
       "      <th>platform</th>\n",
       "      <th>stock_name</th>\n",
       "      <th>post_id</th>\n",
       "      <th>title</th>\n",
       "      <th>content</th>\n",
       "    </tr>\n",
       "  </thead>\n",
       "  <tbody>\n",
       "    <tr>\n",
       "      <th>0</th>\n",
       "      <td>네이버증권</td>\n",
       "      <td>SK이노베이션</td>\n",
       "      <td>298991300</td>\n",
       "      <td>적당히 하자</td>\n",
       "      <td>장난질이\\n과하다\\n눈에 보인다</td>\n",
       "    </tr>\n",
       "    <tr>\n",
       "      <th>1</th>\n",
       "      <td>네이버증권</td>\n",
       "      <td>SK이노베이션</td>\n",
       "      <td>298991300</td>\n",
       "      <td>한번더 속아보자! 주총일이나 1분기 실적발표 보고 판단하는게 좋을듯?</td>\n",
       "      <td>나도 욕나오지만, 참고 기다려 볼려고\\n합니다! 주총때 또 얼마나 좋은말 할지!\\n...</td>\n",
       "    </tr>\n",
       "    <tr>\n",
       "      <th>2</th>\n",
       "      <td>네이버증권</td>\n",
       "      <td>SK이노베이션</td>\n",
       "      <td>298991300</td>\n",
       "      <td>단타</td>\n",
       "      <td>먹이 ㅡ</td>\n",
       "    </tr>\n",
       "    <tr>\n",
       "      <th>3</th>\n",
       "      <td>네이버증권</td>\n",
       "      <td>SK이노베이션</td>\n",
       "      <td>298991300</td>\n",
       "      <td>형아는 SDI 평단 44~46 하던 거 나왔어</td>\n",
       "      <td>탈출?\\n.\\n걍 나온거지...</td>\n",
       "    </tr>\n",
       "    <tr>\n",
       "      <th>4</th>\n",
       "      <td>네이버증권</td>\n",
       "      <td>SK이노베이션</td>\n",
       "      <td>298991300</td>\n",
       "      <td>13만</td>\n",
       "      <td>다시 올려놔라</td>\n",
       "    </tr>\n",
       "  </tbody>\n",
       "</table>\n",
       "</div>"
      ],
      "text/plain": [
       "  platform stock_name    post_id                                   title  \\\n",
       "0    네이버증권    SK이노베이션  298991300                                  적당히 하자   \n",
       "1    네이버증권    SK이노베이션  298991300  한번더 속아보자! 주총일이나 1분기 실적발표 보고 판단하는게 좋을듯?   \n",
       "2    네이버증권    SK이노베이션  298991300                                      단타   \n",
       "3    네이버증권    SK이노베이션  298991300               형아는 SDI 평단 44~46 하던 거 나왔어   \n",
       "4    네이버증권    SK이노베이션  298991300                                     13만   \n",
       "\n",
       "                                             content  \n",
       "0                                  장난질이\\n과하다\\n눈에 보인다  \n",
       "1  나도 욕나오지만, 참고 기다려 볼려고\\n합니다! 주총때 또 얼마나 좋은말 할지!\\n...  \n",
       "2                                               먹이 ㅡ  \n",
       "3                                  탈출?\\n.\\n걍 나온거지...  \n",
       "4                                            다시 올려놔라  "
      ]
     },
     "execution_count": 34,
     "metadata": {},
     "output_type": "execute_result"
    },
    {
     "data": {
      "text/html": [
       "<div>\n",
       "<style scoped>\n",
       "    .dataframe tbody tr th:only-of-type {\n",
       "        vertical-align: middle;\n",
       "    }\n",
       "\n",
       "    .dataframe tbody tr th {\n",
       "        vertical-align: top;\n",
       "    }\n",
       "\n",
       "    .dataframe thead th {\n",
       "        text-align: right;\n",
       "    }\n",
       "</style>\n",
       "<table border=\"1\" class=\"dataframe\">\n",
       "  <thead>\n",
       "    <tr style=\"text-align: right;\">\n",
       "      <th></th>\n",
       "      <th>platform</th>\n",
       "      <th>stock_name</th>\n",
       "      <th>post_id</th>\n",
       "      <th>title</th>\n",
       "      <th>content</th>\n",
       "    </tr>\n",
       "  </thead>\n",
       "  <tbody>\n",
       "    <tr>\n",
       "      <th>395</th>\n",
       "      <td>네이버증권</td>\n",
       "      <td>SK이노베이션</td>\n",
       "      <td>298972200</td>\n",
       "      <td>어제 시초가 덥석 물었다가</td>\n",
       "      <td>여러날 고생하게 생겼네</td>\n",
       "    </tr>\n",
       "    <tr>\n",
       "      <th>396</th>\n",
       "      <td>네이버증권</td>\n",
       "      <td>SK이노베이션</td>\n",
       "      <td>298972200</td>\n",
       "      <td>좋은 하루 보내라 !</td>\n",
       "      <td>아침에 땀 빼고 오니 좋다</td>\n",
       "    </tr>\n",
       "    <tr>\n",
       "      <th>397</th>\n",
       "      <td>네이버증권</td>\n",
       "      <td>SK이노베이션</td>\n",
       "      <td>298972200</td>\n",
       "      <td>시브레 열받아서 오늘 다시 투입각 살핀다...</td>\n",
       "      <td>마5%만 떨궈줘 억따리 투입해서 작살 내줄께...\\n어제 엇박자 걸려서 손절 짜증 ...</td>\n",
       "    </tr>\n",
       "    <tr>\n",
       "      <th>398</th>\n",
       "      <td>네이버증권</td>\n",
       "      <td>SK이노베이션</td>\n",
       "      <td>298972200</td>\n",
       "      <td>■대한민국의 반국가세력 공부하자</td>\n",
       "      <td>■대한민국의 반국가세력 공부하자\\n민주당 종북좌파,민주노총,전교조\\n위 단체가 대한...</td>\n",
       "    </tr>\n",
       "    <tr>\n",
       "      <th>399</th>\n",
       "      <td>네이버증권</td>\n",
       "      <td>SK이노베이션</td>\n",
       "      <td>298972200</td>\n",
       "      <td>오늘도</td>\n",
       "      <td>뺑이 틀겠네</td>\n",
       "    </tr>\n",
       "  </tbody>\n",
       "</table>\n",
       "</div>"
      ],
      "text/plain": [
       "    platform stock_name    post_id                      title  \\\n",
       "395    네이버증권    SK이노베이션  298972200             어제 시초가 덥석 물었다가   \n",
       "396    네이버증권    SK이노베이션  298972200                좋은 하루 보내라 !   \n",
       "397    네이버증권    SK이노베이션  298972200  시브레 열받아서 오늘 다시 투입각 살핀다...   \n",
       "398    네이버증권    SK이노베이션  298972200          ■대한민국의 반국가세력 공부하자   \n",
       "399    네이버증권    SK이노베이션  298972200                        오늘도   \n",
       "\n",
       "                                               content  \n",
       "395                                       여러날 고생하게 생겼네  \n",
       "396                                     아침에 땀 빼고 오니 좋다  \n",
       "397  마5%만 떨궈줘 억따리 투입해서 작살 내줄께...\\n어제 엇박자 걸려서 손절 짜증 ...  \n",
       "398  ■대한민국의 반국가세력 공부하자\\n민주당 종북좌파,민주노총,전교조\\n위 단체가 대한...  \n",
       "399                                             뺑이 틀겠네  "
      ]
     },
     "execution_count": 34,
     "metadata": {},
     "output_type": "execute_result"
    }
   ],
   "source": [
    "df = pd.read_csv('naver_SK이노베이션.csv')\n",
    "df.info()\n",
    "df.head()\n",
    "df.tail()"
   ]
  },
  {
   "cell_type": "code",
   "execution_count": null,
   "metadata": {},
   "outputs": [],
   "source": []
  },
  {
   "cell_type": "code",
   "execution_count": null,
   "metadata": {},
   "outputs": [],
   "source": []
  },
  {
   "cell_type": "code",
   "execution_count": null,
   "metadata": {},
   "outputs": [],
   "source": []
  },
  {
   "cell_type": "code",
   "execution_count": null,
   "metadata": {},
   "outputs": [],
   "source": []
  },
  {
   "cell_type": "code",
   "execution_count": null,
   "metadata": {},
   "outputs": [],
   "source": []
  },
  {
   "cell_type": "code",
   "execution_count": null,
   "metadata": {},
   "outputs": [],
   "source": []
  },
  {
   "cell_type": "code",
   "execution_count": null,
   "metadata": {},
   "outputs": [],
   "source": []
  },
  {
   "cell_type": "code",
   "execution_count": null,
   "metadata": {},
   "outputs": [],
   "source": []
  },
  {
   "cell_type": "code",
   "execution_count": null,
   "metadata": {},
   "outputs": [],
   "source": []
  },
  {
   "cell_type": "code",
   "execution_count": null,
   "metadata": {},
   "outputs": [],
   "source": []
  }
 ],
 "metadata": {
  "kernelspec": {
   "display_name": "deScrap",
   "language": "python",
   "name": "descrap"
  },
  "language_info": {
   "codemirror_mode": {
    "name": "ipython",
    "version": 3
   },
   "file_extension": ".py",
   "mimetype": "text/x-python",
   "name": "python",
   "nbconvert_exporter": "python",
   "pygments_lexer": "ipython3",
   "version": "3.12.7"
  }
 },
 "nbformat": 4,
 "nbformat_minor": 2
}
